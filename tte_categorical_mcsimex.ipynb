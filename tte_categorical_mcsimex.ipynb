{
 "cells": [
  {
   "cell_type": "code",
   "execution_count": 1,
   "id": "30a1e642",
   "metadata": {},
   "outputs": [],
   "source": [
    "library(simex)"
   ]
  },
  {
   "cell_type": "code",
   "execution_count": 2,
   "id": "4eadb5c5",
   "metadata": {},
   "outputs": [],
   "source": [
    "merged_df <- read.csv(\"combined_mimic_smoking_status_0417.csv\")\n",
    "head(merged_df)"
   ]
  },
  {
   "cell_type": "code",
   "execution_count": 3,
   "id": "35002eef",
   "metadata": {},
   "outputs": [
    {
     "data": {
      "text/html": [
       "<span style=white-space:pre-wrap>'mort_28_day ~ echo + first_careunit + age + gender + weight + saps + sofa + elix_score + vent + \\n            vaso + icu_adm_weekday + icu_adm_hour + icd_chf + icd_afib + icd_renal + icd_liver + icd_copd + \\n            icd_cad + icd_stroke + icd_malignancy + vs_heart_rate_first + vs_map_first + vs_temp_first + \\n            lab_hemoglobin_first + lab_platelet_first + lab_wbc_first + lab_ph_first + lab_chloride_first + \\n            lab_sodium_first + lab_bun_first + lab_bicarbonate_first + lab_pco2_first + lab_creatinine_first + \\n            lab_potassium_first + lab_po2_first + lab_lactate_first + sedative + vs_cvp_flag + \\n            lab_creatinine_kinase_flag + lab_bnp_flag + lab_troponin_flag + SMOKING_STATUS'</span>"
      ],
      "text/latex": [
       "'mort\\_28\\_day \\textasciitilde{} echo + first\\_careunit + age + gender + weight + saps + sofa + elix\\_score + vent + \\textbackslash{}n            vaso + icu\\_adm\\_weekday + icu\\_adm\\_hour + icd\\_chf + icd\\_afib + icd\\_renal + icd\\_liver + icd\\_copd + \\textbackslash{}n            icd\\_cad + icd\\_stroke + icd\\_malignancy + vs\\_heart\\_rate\\_first + vs\\_map\\_first + vs\\_temp\\_first + \\textbackslash{}n            lab\\_hemoglobin\\_first + lab\\_platelet\\_first + lab\\_wbc\\_first + lab\\_ph\\_first + lab\\_chloride\\_first + \\textbackslash{}n            lab\\_sodium\\_first + lab\\_bun\\_first + lab\\_bicarbonate\\_first + lab\\_pco2\\_first + lab\\_creatinine\\_first + \\textbackslash{}n            lab\\_potassium\\_first + lab\\_po2\\_first + lab\\_lactate\\_first + sedative + vs\\_cvp\\_flag + \\textbackslash{}n            lab\\_creatinine\\_kinase\\_flag + lab\\_bnp\\_flag + lab\\_troponin\\_flag + SMOKING\\_STATUS'"
      ],
      "text/markdown": [
       "<span style=white-space:pre-wrap>'mort_28_day ~ echo + first_careunit + age + gender + weight + saps + sofa + elix_score + vent + \\n            vaso + icu_adm_weekday + icu_adm_hour + icd_chf + icd_afib + icd_renal + icd_liver + icd_copd + \\n            icd_cad + icd_stroke + icd_malignancy + vs_heart_rate_first + vs_map_first + vs_temp_first + \\n            lab_hemoglobin_first + lab_platelet_first + lab_wbc_first + lab_ph_first + lab_chloride_first + \\n            lab_sodium_first + lab_bun_first + lab_bicarbonate_first + lab_pco2_first + lab_creatinine_first + \\n            lab_potassium_first + lab_po2_first + lab_lactate_first + sedative + vs_cvp_flag + \\n            lab_creatinine_kinase_flag + lab_bnp_flag + lab_troponin_flag + SMOKING_STATUS'</span>"
      ],
      "text/plain": [
       "[1] \"mort_28_day ~ echo + first_careunit + age + gender + weight + saps + sofa + elix_score + vent + \\n            vaso + icu_adm_weekday + icu_adm_hour + icd_chf + icd_afib + icd_renal + icd_liver + icd_copd + \\n            icd_cad + icd_stroke + icd_malignancy + vs_heart_rate_first + vs_map_first + vs_temp_first + \\n            lab_hemoglobin_first + lab_platelet_first + lab_wbc_first + lab_ph_first + lab_chloride_first + \\n            lab_sodium_first + lab_bun_first + lab_bicarbonate_first + lab_pco2_first + lab_creatinine_first + \\n            lab_potassium_first + lab_po2_first + lab_lactate_first + sedative + vs_cvp_flag + \\n            lab_creatinine_kinase_flag + lab_bnp_flag + lab_troponin_flag + SMOKING_STATUS\""
      ]
     },
     "metadata": {},
     "output_type": "display_data"
    }
   ],
   "source": [
    "fml <- 'mort_28_day ~ echo + first_careunit + age + gender + weight + saps + sofa + elix_score + vent + \\\n",
    "            vaso + icu_adm_weekday + icu_adm_hour + icd_chf + icd_afib + icd_renal + icd_liver + icd_copd + \\\n",
    "            icd_cad + icd_stroke + icd_malignancy + vs_heart_rate_first + vs_map_first + vs_temp_first + \\\n",
    "            lab_hemoglobin_first + lab_platelet_first + lab_wbc_first + lab_ph_first + lab_chloride_first + \\\n",
    "            lab_sodium_first + lab_bun_first + lab_bicarbonate_first + lab_pco2_first + lab_creatinine_first + \\\n",
    "            lab_potassium_first + lab_po2_first + lab_lactate_first + sedative + vs_cvp_flag + \\\n",
    "            lab_creatinine_kinase_flag + lab_bnp_flag + lab_troponin_flag + SMOKING_STATUS'\n",
    "fml"
   ]
  },
  {
   "cell_type": "code",
   "execution_count": 4,
   "id": "c9aba927",
   "metadata": {},
   "outputs": [],
   "source": [
    "merged_df$SMOKING_STATUS <- as.factor(merged_df$SMOKING_STATUS)"
   ]
  },
  {
   "cell_type": "code",
   "execution_count": 68,
   "id": "fefb7297",
   "metadata": {},
   "outputs": [],
   "source": [
    "glm_model = glm(as.formula(fml), data = merged_df, family = binomial, na.action = na.exclude)"
   ]
  },
  {
   "cell_type": "code",
   "execution_count": 69,
   "id": "606f1be4",
   "metadata": {},
   "outputs": [
    {
     "data": {
      "text/plain": [
       "\n",
       "Call:\n",
       "glm(formula = as.formula(fml), family = binomial, data = merged_df, \n",
       "    na.action = na.exclude)\n",
       "\n",
       "Coefficients:\n",
       "                             Estimate Std. Error z value Pr(>|z|)    \n",
       "(Intercept)                 3.5542731  7.4974785   0.474 0.635455    \n",
       "echo                       -0.1629170  0.1284231  -1.269 0.204585    \n",
       "first_careunitSICU         -0.1714718  0.1725299  -0.994 0.320288    \n",
       "age                         0.0196017  0.0049069   3.995 6.48e-05 ***\n",
       "genderM                     0.2627325  0.1292458   2.033 0.042071 *  \n",
       "weight                     -0.0076758  0.0028308  -2.712 0.006697 ** \n",
       "saps                        0.0941357  0.0169318   5.560 2.70e-08 ***\n",
       "sofa                        0.2292723  0.0260908   8.787  < 2e-16 ***\n",
       "elix_score                  0.0016398  0.0382643   0.043 0.965819    \n",
       "vent                        0.2919105  0.2076957   1.405 0.159881    \n",
       "vaso                        0.0096973  0.1592693   0.061 0.951450    \n",
       "icu_adm_weekdaymonday       0.2885723  0.2308834   1.250 0.211350    \n",
       "icu_adm_weekdaysaturday     0.3271973  0.2339191   1.399 0.161884    \n",
       "icu_adm_weekdaysunday       0.3674316  0.2213365   1.660 0.096903 .  \n",
       "icu_adm_weekdaythursday     0.2761743  0.2178751   1.268 0.204948    \n",
       "icu_adm_weekdaytuesday      0.4834773  0.2242950   2.156 0.031119 *  \n",
       "icu_adm_weekdaywednesday    0.3732998  0.2235363   1.670 0.094924 .  \n",
       "icu_adm_hour                0.0101863  0.0083958   1.213 0.225032    \n",
       "icd_chf                     0.0179492  0.1441395   0.125 0.900898    \n",
       "icd_afib                    0.2291138  0.1447864   1.582 0.113552    \n",
       "icd_renal                  -0.0815891  0.1805888  -0.452 0.651417    \n",
       "icd_liver                   0.4885647  0.2067116   2.364 0.018103 *  \n",
       "icd_copd                    0.2186242  0.1690735   1.293 0.195986    \n",
       "icd_cad                    -0.0871206  0.1815129  -0.480 0.631249    \n",
       "icd_stroke                  1.0539960  0.2451065   4.300 1.71e-05 ***\n",
       "icd_malignancy              0.6415184  0.1420419   4.516 6.29e-06 ***\n",
       "vs_heart_rate_first         0.0106343  0.0031247   3.403 0.000666 ***\n",
       "vs_map_first               -0.0055075  0.0031051  -1.774 0.076109 .  \n",
       "vs_temp_first              -0.0264161  0.0554477  -0.476 0.633779    \n",
       "lab_hemoglobin_first       -0.0175549  0.0323383  -0.543 0.587232    \n",
       "lab_platelet_first          0.0006520  0.0005003   1.303 0.192456    \n",
       "lab_wbc_first              -0.0079274  0.0048621  -1.630 0.103009    \n",
       "lab_ph_first               -1.0481758  0.9867278  -1.062 0.288111    \n",
       "lab_chloride_first         -0.0298946  0.0201947  -1.480 0.138788    \n",
       "lab_sodium_first            0.0111143  0.0216535   0.513 0.607758    \n",
       "lab_bun_first               0.0119775  0.0032869   3.644 0.000268 ***\n",
       "lab_bicarbonate_first       0.0243049  0.0235463   1.032 0.301971    \n",
       "lab_pco2_first             -0.0118131  0.0085862  -1.376 0.168875    \n",
       "lab_creatinine_first       -0.3045481  0.0652522  -4.667 3.05e-06 ***\n",
       "lab_potassium_first         0.0745577  0.0822375   0.907 0.364610    \n",
       "lab_po2_first              -0.0008913  0.0006258  -1.424 0.154409    \n",
       "lab_lactate_first           0.1067601  0.0365808   2.918 0.003518 ** \n",
       "sedative                   -0.1557019  0.1820521  -0.855 0.392407    \n",
       "vs_cvp_flag                -0.4690783  0.1415634  -3.314 0.000921 ***\n",
       "lab_creatinine_kinase_flag -0.1289921  0.1685141  -0.765 0.443993    \n",
       "lab_bnp_flag               -0.3880811  0.3466024  -1.120 0.262853    \n",
       "lab_troponin_flag          -0.0035534  0.1753985  -0.020 0.983837    \n",
       "SMOKING_STATUS2             0.9925886  0.3830245   2.591 0.009557 ** \n",
       "SMOKING_STATUS3            -0.5717791  0.1572635  -3.636 0.000277 ***\n",
       "SMOKING_STATUS4             0.2519885  0.1486283   1.695 0.089994 .  \n",
       "---\n",
       "Signif. codes:  0 '***' 0.001 '**' 0.01 '*' 0.05 '.' 0.1 ' ' 1\n",
       "\n",
       "(Dispersion parameter for binomial family taken to be 1)\n",
       "\n",
       "    Null deviance: 2518.3  on 1992  degrees of freedom\n",
       "Residual deviance: 1779.2  on 1943  degrees of freedom\n",
       "  (2742 observations deleted due to missingness)\n",
       "AIC: 1879.2\n",
       "\n",
       "Number of Fisher Scoring iterations: 5\n"
      ]
     },
     "metadata": {},
     "output_type": "display_data"
    }
   ],
   "source": [
    "summary(glm_model)"
   ]
  },
  {
   "cell_type": "code",
   "execution_count": 70,
   "id": "35f19038",
   "metadata": {},
   "outputs": [
    {
     "data": {
      "text/html": [
       "<table class=\"dataframe\">\n",
       "<caption>A matrix: 4 × 4 of type dbl</caption>\n",
       "<thead>\n",
       "\t<tr><th></th><th scope=col>1</th><th scope=col>2</th><th scope=col>3</th><th scope=col>4</th></tr>\n",
       "</thead>\n",
       "<tbody>\n",
       "\t<tr><th scope=row>1</th><td>0.7272727</td><td>0.3508917</td><td>0.0625</td><td>0.015873</td></tr>\n",
       "\t<tr><th scope=row>2</th><td>0.0000000</td><td>0.3545172</td><td>0.0000</td><td>0.000000</td></tr>\n",
       "\t<tr><th scope=row>3</th><td>0.1818182</td><td>0.2634643</td><td>0.8750</td><td>0.015873</td></tr>\n",
       "\t<tr><th scope=row>4</th><td>0.0909091</td><td>0.0311268</td><td>0.0625</td><td>0.968254</td></tr>\n",
       "</tbody>\n",
       "</table>\n"
      ],
      "text/latex": [
       "A matrix: 4 × 4 of type dbl\n",
       "\\begin{tabular}{r|llll}\n",
       "  & 1 & 2 & 3 & 4\\\\\n",
       "\\hline\n",
       "\t1 & 0.7272727 & 0.3508917 & 0.0625 & 0.015873\\\\\n",
       "\t2 & 0.0000000 & 0.3545172 & 0.0000 & 0.000000\\\\\n",
       "\t3 & 0.1818182 & 0.2634643 & 0.8750 & 0.015873\\\\\n",
       "\t4 & 0.0909091 & 0.0311268 & 0.0625 & 0.968254\\\\\n",
       "\\end{tabular}\n"
      ],
      "text/markdown": [
       "\n",
       "A matrix: 4 × 4 of type dbl\n",
       "\n",
       "| <!--/--> | 1 | 2 | 3 | 4 |\n",
       "|---|---|---|---|---|\n",
       "| 1 | 0.7272727 | 0.3508917 | 0.0625 | 0.015873 |\n",
       "| 2 | 0.0000000 | 0.3545172 | 0.0000 | 0.000000 |\n",
       "| 3 | 0.1818182 | 0.2634643 | 0.8750 | 0.015873 |\n",
       "| 4 | 0.0909091 | 0.0311268 | 0.0625 | 0.968254 |\n",
       "\n"
      ],
      "text/plain": [
       "  1         2         3      4       \n",
       "1 0.7272727 0.3508917 0.0625 0.015873\n",
       "2 0.0000000 0.3545172 0.0000 0.000000\n",
       "3 0.1818182 0.2634643 0.8750 0.015873\n",
       "4 0.0909091 0.0311268 0.0625 0.968254"
      ]
     },
     "metadata": {},
     "output_type": "display_data"
    }
   ],
   "source": [
    "matrix_error <- matrix(c(8/11, 0, 2/11, 1/11, 4/11, 4/11, 3/11, 0, 1/16, 0, 14/16, 1/16, 1/63, 0, 1/63, 61/63), nrow=4)\n",
    "matrix_error <- build.mc.matrix(matrix_error)\n",
    "dimnames(matrix_error) <- list(levels(merged_df$SMOKING_STATUS), levels(merged_df$SMOKING_STATUS))\n",
    "matrix_error"
   ]
  },
  {
   "cell_type": "code",
   "execution_count": 71,
   "id": "d1e14af0",
   "metadata": {},
   "outputs": [],
   "source": [
    "tte_smoking_mcsimex <- mcsimex(glm_model, SIMEXvariable = \"SMOKING_STATUS\", mc.matrix=matrix_error, asymptotic = FALSE)"
   ]
  },
  {
   "cell_type": "code",
   "execution_count": 72,
   "id": "92f9840a",
   "metadata": {},
   "outputs": [
    {
     "data": {
      "text/plain": [
       "Call:\n",
       "mcsimex(model = glm_model, SIMEXvariable = \"SMOKING_STATUS\", \n",
       "    mc.matrix = matrix_error, asymptotic = FALSE)\n",
       "\n",
       "Naive model: \n",
       "glm(formula = as.formula(fml), family = binomial, data = merged_df, \n",
       "    na.action = na.exclude)\n",
       "\n",
       "Simex variable : SMOKING_STATUS \n",
       "Misclassification matrix: \n",
       "          1         2      3        4\n",
       "1 0.7272727 0.3508917 0.0625 0.015873\n",
       "2 0.0000000 0.3545172 0.0000 0.000000\n",
       "3 0.1818182 0.2634643 0.8750 0.015873\n",
       "4 0.0909091 0.0311268 0.0625 0.968254\n",
       "\n",
       "Number of iterations:  100 \n",
       "\n",
       "Residuals: \n",
       "     Min.   1st Qu.    Median      Mean   3rd Qu.      Max. \n",
       "-0.926516 -0.208407 -0.065317  0.006416  0.177691  0.984092 \n",
       "\n",
       "Coefficients: \n",
       "\n",
       "Jackknife variance: \n",
       "                             Estimate Std. Error t value Pr(>|t|)    \n",
       "(Intercept)                 3.3393653  7.6097071   0.439 0.660834    \n",
       "echo                       -0.1560066  0.1299939  -1.200 0.230244    \n",
       "first_careunitSICU         -0.1536026  0.1745758  -0.880 0.379043    \n",
       "age                         0.0203226  0.0049871   4.075 4.79e-05 ***\n",
       "genderM                     0.2414222  0.1312911   1.839 0.066093 .  \n",
       "weight                     -0.0079667  0.0028702  -2.776 0.005561 ** \n",
       "saps                        0.0979020  0.0173070   5.657 1.77e-08 ***\n",
       "sofa                        0.2273592  0.0263564   8.626  < 2e-16 ***\n",
       "elix_score                  0.0086107  0.0387851   0.222 0.824329    \n",
       "vent                        0.2074512  0.2115739   0.981 0.326955    \n",
       "vaso                        0.0339963  0.1617139   0.210 0.833514    \n",
       "icu_adm_weekdaymonday       0.3093517  0.2354717   1.314 0.189084    \n",
       "icu_adm_weekdaysaturday     0.3356860  0.2377559   1.412 0.158141    \n",
       "icu_adm_weekdaysunday       0.3706728  0.2244653   1.651 0.098827 .  \n",
       "icu_adm_weekdaythursday     0.2721813  0.2209586   1.232 0.218165    \n",
       "icu_adm_weekdaytuesday      0.5138508  0.2271568   2.262 0.023801 *  \n",
       "icu_adm_weekdaywednesday    0.4184897  0.2266596   1.846 0.064996 .  \n",
       "icu_adm_hour                0.0097933  0.0084665   1.157 0.247533    \n",
       "icd_chf                    -0.0293773  0.1463271  -0.201 0.840904    \n",
       "icd_afib                    0.2208859  0.1462812   1.510 0.131204    \n",
       "icd_renal                  -0.0487124  0.1829610  -0.266 0.790079    \n",
       "icd_liver                   0.5125708  0.2086132   2.457 0.014096 *  \n",
       "icd_copd                    0.1579515  0.1727140   0.915 0.360554    \n",
       "icd_cad                    -0.1127844  0.1845507  -0.611 0.541185    \n",
       "icd_stroke                  1.0348011  0.2483487   4.167 3.23e-05 ***\n",
       "icd_malignancy              0.5995389  0.1447559   4.142 3.59e-05 ***\n",
       "vs_heart_rate_first         0.0103066  0.0031670   3.254 0.001156 ** \n",
       "vs_map_first               -0.0049098  0.0031412  -1.563 0.118213    \n",
       "vs_temp_first              -0.0255926  0.0562909  -0.455 0.649413    \n",
       "lab_hemoglobin_first       -0.0253441  0.0329593  -0.769 0.442014    \n",
       "lab_platelet_first          0.0007358  0.0005069   1.452 0.146756    \n",
       "lab_wbc_first              -0.0080179  0.0049865  -1.608 0.108013    \n",
       "lab_ph_first               -1.0148702  1.0013016  -1.014 0.310923    \n",
       "lab_chloride_first         -0.0336204  0.0204941  -1.640 0.101064    \n",
       "lab_sodium_first            0.0149627  0.0219023   0.683 0.494589    \n",
       "lab_bun_first               0.0109657  0.0033321   3.291 0.001016 ** \n",
       "lab_bicarbonate_first       0.0208482  0.0238986   0.872 0.383120    \n",
       "lab_pco2_first             -0.0124491  0.0086880  -1.433 0.152045    \n",
       "lab_creatinine_first       -0.2979181  0.0656404  -4.539 6.01e-06 ***\n",
       "lab_potassium_first         0.0636805  0.0835377   0.762 0.445976    \n",
       "lab_po2_first              -0.0008546  0.0006320  -1.352 0.176491    \n",
       "lab_lactate_first           0.1006229  0.0372390   2.702 0.006951 ** \n",
       "sedative                   -0.1257397  0.1852280  -0.679 0.497322    \n",
       "vs_cvp_flag                -0.4586802  0.1431385  -3.204 0.001375 ** \n",
       "lab_creatinine_kinase_flag -0.1544721  0.1705746  -0.906 0.365261    \n",
       "lab_bnp_flag               -0.3828832  0.3508995  -1.091 0.275343    \n",
       "lab_troponin_flag           0.0333660  0.1781036   0.187 0.851413    \n",
       "SMOKING_STATUS2             0.8086697 87.4326365   0.009 0.992621    \n",
       "SMOKING_STATUS3            -0.9019370  0.2429402  -3.713 0.000211 ***\n",
       "SMOKING_STATUS4             0.3219362  0.1829453   1.760 0.078609 .  \n",
       "---\n",
       "Signif. codes:  0 '***' 0.001 '**' 0.01 '*' 0.05 '.' 0.1 ' ' 1"
      ]
     },
     "metadata": {},
     "output_type": "display_data"
    }
   ],
   "source": [
    "summary(tte_smoking_mcsimex)"
   ]
  },
  {
   "cell_type": "code",
   "execution_count": 10,
   "id": "62c9119d",
   "metadata": {},
   "outputs": [],
   "source": [
    "# plot(tte_smoking_mcsimex)"
   ]
  },
  {
   "cell_type": "markdown",
   "id": "7652ce27",
   "metadata": {},
   "source": [
    "### Calculating Risk Ratio using MC-SIMEX"
   ]
  },
  {
   "cell_type": "code",
   "execution_count": 80,
   "id": "c136ca66",
   "metadata": {},
   "outputs": [],
   "source": [
    "merged_df_0 <- read.csv(\"combined_mimic_smoking_status_0417.csv\")"
   ]
  },
  {
   "cell_type": "code",
   "execution_count": 81,
   "id": "7602fb17",
   "metadata": {},
   "outputs": [],
   "source": [
    "data <- replace(merged_df_0[\"echo\"], merged_df_0[\"echo\"]>0, 0) \n",
    "# print(data)"
   ]
  },
  {
   "cell_type": "code",
   "execution_count": 82,
   "id": "c3cc45fc",
   "metadata": {},
   "outputs": [],
   "source": [
    "merged_df_0[\"echo\"] <- data\n",
    "merged_df_0$SMOKING_STATUS <- as.factor(merged_df_0$SMOKING_STATUS)"
   ]
  },
  {
   "cell_type": "code",
   "execution_count": 83,
   "id": "540e4e7d",
   "metadata": {},
   "outputs": [],
   "source": [
    "predictions_0 = predict(tte_smoking_mcsimex, merged_df_0, type=\"response\")"
   ]
  },
  {
   "cell_type": "code",
   "execution_count": 85,
   "id": "67135762",
   "metadata": {},
   "outputs": [
    {
     "name": "stdout",
     "output_type": "stream",
     "text": [
      "[1] 662.0483\n"
     ]
    }
   ],
   "source": [
    "p0_total = sum(predictions_0, na.rm=T)\n",
    "print(p0_total)"
   ]
  },
  {
   "cell_type": "code",
   "execution_count": 88,
   "id": "310ecb5b",
   "metadata": {},
   "outputs": [],
   "source": [
    "merged_df_1 <- read.csv(\"combined_mimic_smoking_status_0417.csv\")"
   ]
  },
  {
   "cell_type": "code",
   "execution_count": 90,
   "id": "9be4bf38",
   "metadata": {},
   "outputs": [],
   "source": [
    "data <- replace(merged_df_1[\"echo\"], merged_df_1[\"echo\"]>-1, 1)"
   ]
  },
  {
   "cell_type": "code",
   "execution_count": 91,
   "id": "3ff3a800",
   "metadata": {},
   "outputs": [],
   "source": [
    "merged_df_1[\"echo\"] <- data\n",
    "merged_df_1$SMOKING_STATUS <- as.factor(merged_df_1$SMOKING_STATUS)"
   ]
  },
  {
   "cell_type": "code",
   "execution_count": 92,
   "id": "d0a13bcc",
   "metadata": {},
   "outputs": [],
   "source": [
    "predictions_1 = predict(tte_smoking_mcsimex, merged_df_1, type=\"response\")"
   ]
  },
  {
   "cell_type": "code",
   "execution_count": 93,
   "id": "a639297c",
   "metadata": {},
   "outputs": [
    {
     "name": "stdout",
     "output_type": "stream",
     "text": [
      "[1] 617.9846\n"
     ]
    }
   ],
   "source": [
    "p1_total = sum(predictions_1, na.rm=T)\n",
    "print(p1_total)"
   ]
  },
  {
   "cell_type": "code",
   "execution_count": 94,
   "id": "f9ac36bb",
   "metadata": {},
   "outputs": [
    {
     "name": "stdout",
     "output_type": "stream",
     "text": [
      "[1] 0.9334433\n"
     ]
    }
   ],
   "source": [
    "rr = p1_total / p0_total\n",
    "print(rr)"
   ]
  },
  {
   "cell_type": "code",
   "execution_count": null,
   "id": "0592bb69",
   "metadata": {},
   "outputs": [],
   "source": []
  }
 ],
 "metadata": {
  "kernelspec": {
   "display_name": "R",
   "language": "R",
   "name": "ir"
  },
  "language_info": {
   "codemirror_mode": "r",
   "file_extension": ".r",
   "mimetype": "text/x-r-source",
   "name": "R",
   "pygments_lexer": "r",
   "version": "4.3.3"
  }
 },
 "nbformat": 4,
 "nbformat_minor": 5
}
