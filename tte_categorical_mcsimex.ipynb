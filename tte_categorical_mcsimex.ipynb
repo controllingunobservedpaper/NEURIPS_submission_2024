{
 "cells": [
  {
   "cell_type": "code",
   "execution_count": 1,
   "id": "30a1e642",
   "metadata": {},
   "outputs": [],
   "source": [
    "library(simex)\n",
    "library(reticulate)"
   ]
  },
  {
   "cell_type": "code",
   "execution_count": 2,
   "id": "4eadb5c5",
   "metadata": {},
   "outputs": [],
   "source": [
    "merged_df <- read.csv(\"combined_mimic_smoking_status_0417.csv\")\n",
    "# head(merged_df)"
   ]
  },
  {
   "cell_type": "code",
   "execution_count": 3,
   "id": "35002eef",
   "metadata": {},
   "outputs": [
    {
     "data": {
      "text/html": [
       "<span style=white-space:pre-wrap>'mort_28_day ~ echo + first_careunit + age + gender + weight + saps + sofa + elix_score + vent + \\n            vaso + icu_adm_weekday + icu_adm_hour + icd_chf + icd_afib + icd_renal + icd_liver + icd_copd + \\n            icd_cad + icd_stroke + icd_malignancy + vs_heart_rate_first + vs_map_first + vs_temp_first + \\n            lab_hemoglobin_first + lab_platelet_first + lab_wbc_first + lab_ph_first + lab_chloride_first + \\n            lab_sodium_first + lab_bun_first + lab_bicarbonate_first + lab_pco2_first + lab_creatinine_first + \\n            lab_potassium_first + lab_po2_first + lab_lactate_first + sedative + vs_cvp_flag + \\n            lab_creatinine_kinase_flag + lab_bnp_flag + lab_troponin_flag + SMOKING_STATUS'</span>"
      ],
      "text/latex": [
       "'mort\\_28\\_day \\textasciitilde{} echo + first\\_careunit + age + gender + weight + saps + sofa + elix\\_score + vent + \\textbackslash{}n            vaso + icu\\_adm\\_weekday + icu\\_adm\\_hour + icd\\_chf + icd\\_afib + icd\\_renal + icd\\_liver + icd\\_copd + \\textbackslash{}n            icd\\_cad + icd\\_stroke + icd\\_malignancy + vs\\_heart\\_rate\\_first + vs\\_map\\_first + vs\\_temp\\_first + \\textbackslash{}n            lab\\_hemoglobin\\_first + lab\\_platelet\\_first + lab\\_wbc\\_first + lab\\_ph\\_first + lab\\_chloride\\_first + \\textbackslash{}n            lab\\_sodium\\_first + lab\\_bun\\_first + lab\\_bicarbonate\\_first + lab\\_pco2\\_first + lab\\_creatinine\\_first + \\textbackslash{}n            lab\\_potassium\\_first + lab\\_po2\\_first + lab\\_lactate\\_first + sedative + vs\\_cvp\\_flag + \\textbackslash{}n            lab\\_creatinine\\_kinase\\_flag + lab\\_bnp\\_flag + lab\\_troponin\\_flag + SMOKING\\_STATUS'"
      ],
      "text/markdown": [
       "<span style=white-space:pre-wrap>'mort_28_day ~ echo + first_careunit + age + gender + weight + saps + sofa + elix_score + vent + \\n            vaso + icu_adm_weekday + icu_adm_hour + icd_chf + icd_afib + icd_renal + icd_liver + icd_copd + \\n            icd_cad + icd_stroke + icd_malignancy + vs_heart_rate_first + vs_map_first + vs_temp_first + \\n            lab_hemoglobin_first + lab_platelet_first + lab_wbc_first + lab_ph_first + lab_chloride_first + \\n            lab_sodium_first + lab_bun_first + lab_bicarbonate_first + lab_pco2_first + lab_creatinine_first + \\n            lab_potassium_first + lab_po2_first + lab_lactate_first + sedative + vs_cvp_flag + \\n            lab_creatinine_kinase_flag + lab_bnp_flag + lab_troponin_flag + SMOKING_STATUS'</span>"
      ],
      "text/plain": [
       "[1] \"mort_28_day ~ echo + first_careunit + age + gender + weight + saps + sofa + elix_score + vent + \\n            vaso + icu_adm_weekday + icu_adm_hour + icd_chf + icd_afib + icd_renal + icd_liver + icd_copd + \\n            icd_cad + icd_stroke + icd_malignancy + vs_heart_rate_first + vs_map_first + vs_temp_first + \\n            lab_hemoglobin_first + lab_platelet_first + lab_wbc_first + lab_ph_first + lab_chloride_first + \\n            lab_sodium_first + lab_bun_first + lab_bicarbonate_first + lab_pco2_first + lab_creatinine_first + \\n            lab_potassium_first + lab_po2_first + lab_lactate_first + sedative + vs_cvp_flag + \\n            lab_creatinine_kinase_flag + lab_bnp_flag + lab_troponin_flag + SMOKING_STATUS\""
      ]
     },
     "metadata": {},
     "output_type": "display_data"
    }
   ],
   "source": [
    "fml <- 'mort_28_day ~ echo + first_careunit + age + gender + weight + saps + sofa + elix_score + vent + \\\n",
    "            vaso + icu_adm_weekday + icu_adm_hour + icd_chf + icd_afib + icd_renal + icd_liver + icd_copd + \\\n",
    "            icd_cad + icd_stroke + icd_malignancy + vs_heart_rate_first + vs_map_first + vs_temp_first + \\\n",
    "            lab_hemoglobin_first + lab_platelet_first + lab_wbc_first + lab_ph_first + lab_chloride_first + \\\n",
    "            lab_sodium_first + lab_bun_first + lab_bicarbonate_first + lab_pco2_first + lab_creatinine_first + \\\n",
    "            lab_potassium_first + lab_po2_first + lab_lactate_first + sedative + vs_cvp_flag + \\\n",
    "            lab_creatinine_kinase_flag + lab_bnp_flag + lab_troponin_flag + SMOKING_STATUS'\n",
    "fml"
   ]
  },
  {
   "cell_type": "code",
   "execution_count": 4,
   "id": "c9aba927",
   "metadata": {},
   "outputs": [],
   "source": [
    "merged_df$SMOKING_STATUS <- as.factor(merged_df$SMOKING_STATUS)"
   ]
  },
  {
   "cell_type": "code",
   "execution_count": 5,
   "id": "fefb7297",
   "metadata": {},
   "outputs": [],
   "source": [
    "glm_model = glm(as.formula(fml), data = merged_df, family = binomial, na.action = na.exclude)"
   ]
  },
  {
   "cell_type": "code",
   "execution_count": 6,
   "id": "606f1be4",
   "metadata": {},
   "outputs": [
    {
     "data": {
      "text/plain": [
       "\n",
       "Call:\n",
       "glm(formula = as.formula(fml), family = binomial, data = merged_df, \n",
       "    na.action = na.exclude)\n",
       "\n",
       "Coefficients:\n",
       "                             Estimate Std. Error z value Pr(>|z|)    \n",
       "(Intercept)                 3.5542731  7.4974785   0.474 0.635455    \n",
       "echo                       -0.1629170  0.1284231  -1.269 0.204585    \n",
       "first_careunitSICU         -0.1714718  0.1725299  -0.994 0.320288    \n",
       "age                         0.0196017  0.0049069   3.995 6.48e-05 ***\n",
       "genderM                     0.2627325  0.1292458   2.033 0.042071 *  \n",
       "weight                     -0.0076758  0.0028308  -2.712 0.006697 ** \n",
       "saps                        0.0941357  0.0169318   5.560 2.70e-08 ***\n",
       "sofa                        0.2292723  0.0260908   8.787  < 2e-16 ***\n",
       "elix_score                  0.0016398  0.0382643   0.043 0.965819    \n",
       "vent                        0.2919105  0.2076957   1.405 0.159881    \n",
       "vaso                        0.0096973  0.1592693   0.061 0.951450    \n",
       "icu_adm_weekdaymonday       0.2885723  0.2308834   1.250 0.211350    \n",
       "icu_adm_weekdaysaturday     0.3271973  0.2339191   1.399 0.161884    \n",
       "icu_adm_weekdaysunday       0.3674316  0.2213365   1.660 0.096903 .  \n",
       "icu_adm_weekdaythursday     0.2761743  0.2178751   1.268 0.204948    \n",
       "icu_adm_weekdaytuesday      0.4834773  0.2242950   2.156 0.031119 *  \n",
       "icu_adm_weekdaywednesday    0.3732998  0.2235363   1.670 0.094924 .  \n",
       "icu_adm_hour                0.0101863  0.0083958   1.213 0.225032    \n",
       "icd_chf                     0.0179492  0.1441395   0.125 0.900898    \n",
       "icd_afib                    0.2291138  0.1447864   1.582 0.113552    \n",
       "icd_renal                  -0.0815891  0.1805888  -0.452 0.651417    \n",
       "icd_liver                   0.4885647  0.2067116   2.364 0.018103 *  \n",
       "icd_copd                    0.2186242  0.1690735   1.293 0.195986    \n",
       "icd_cad                    -0.0871206  0.1815129  -0.480 0.631249    \n",
       "icd_stroke                  1.0539960  0.2451065   4.300 1.71e-05 ***\n",
       "icd_malignancy              0.6415184  0.1420419   4.516 6.29e-06 ***\n",
       "vs_heart_rate_first         0.0106343  0.0031247   3.403 0.000666 ***\n",
       "vs_map_first               -0.0055075  0.0031051  -1.774 0.076109 .  \n",
       "vs_temp_first              -0.0264161  0.0554477  -0.476 0.633779    \n",
       "lab_hemoglobin_first       -0.0175549  0.0323383  -0.543 0.587232    \n",
       "lab_platelet_first          0.0006520  0.0005003   1.303 0.192456    \n",
       "lab_wbc_first              -0.0079274  0.0048621  -1.630 0.103009    \n",
       "lab_ph_first               -1.0481758  0.9867278  -1.062 0.288111    \n",
       "lab_chloride_first         -0.0298946  0.0201947  -1.480 0.138788    \n",
       "lab_sodium_first            0.0111143  0.0216535   0.513 0.607758    \n",
       "lab_bun_first               0.0119775  0.0032869   3.644 0.000268 ***\n",
       "lab_bicarbonate_first       0.0243049  0.0235463   1.032 0.301971    \n",
       "lab_pco2_first             -0.0118131  0.0085862  -1.376 0.168875    \n",
       "lab_creatinine_first       -0.3045481  0.0652522  -4.667 3.05e-06 ***\n",
       "lab_potassium_first         0.0745577  0.0822375   0.907 0.364610    \n",
       "lab_po2_first              -0.0008913  0.0006258  -1.424 0.154409    \n",
       "lab_lactate_first           0.1067601  0.0365808   2.918 0.003518 ** \n",
       "sedative                   -0.1557019  0.1820521  -0.855 0.392407    \n",
       "vs_cvp_flag                -0.4690783  0.1415634  -3.314 0.000921 ***\n",
       "lab_creatinine_kinase_flag -0.1289921  0.1685141  -0.765 0.443993    \n",
       "lab_bnp_flag               -0.3880811  0.3466024  -1.120 0.262853    \n",
       "lab_troponin_flag          -0.0035534  0.1753985  -0.020 0.983837    \n",
       "SMOKING_STATUS2             0.9925886  0.3830245   2.591 0.009557 ** \n",
       "SMOKING_STATUS3            -0.5717791  0.1572635  -3.636 0.000277 ***\n",
       "SMOKING_STATUS4             0.2519885  0.1486283   1.695 0.089994 .  \n",
       "---\n",
       "Signif. codes:  0 '***' 0.001 '**' 0.01 '*' 0.05 '.' 0.1 ' ' 1\n",
       "\n",
       "(Dispersion parameter for binomial family taken to be 1)\n",
       "\n",
       "    Null deviance: 2518.3  on 1992  degrees of freedom\n",
       "Residual deviance: 1779.2  on 1943  degrees of freedom\n",
       "  (2742 observations deleted due to missingness)\n",
       "AIC: 1879.2\n",
       "\n",
       "Number of Fisher Scoring iterations: 5\n"
      ]
     },
     "metadata": {},
     "output_type": "display_data"
    }
   ],
   "source": [
    "summary(glm_model)"
   ]
  },
  {
   "cell_type": "code",
   "execution_count": 29,
   "id": "35f19038",
   "metadata": {},
   "outputs": [
    {
     "data": {
      "text/html": [
       "<table class=\"dataframe\">\n",
       "<caption>A matrix: 4 × 4 of type dbl</caption>\n",
       "<thead>\n",
       "\t<tr><th></th><th scope=col>1</th><th scope=col>2</th><th scope=col>3</th><th scope=col>4</th></tr>\n",
       "</thead>\n",
       "<tbody>\n",
       "\t<tr><th scope=row>1</th><td>0.7272727</td><td>0.3508917</td><td>0.0625</td><td>0.015873</td></tr>\n",
       "\t<tr><th scope=row>2</th><td>0.0000000</td><td>0.3545172</td><td>0.0000</td><td>0.000000</td></tr>\n",
       "\t<tr><th scope=row>3</th><td>0.1818182</td><td>0.2634643</td><td>0.8750</td><td>0.015873</td></tr>\n",
       "\t<tr><th scope=row>4</th><td>0.0909091</td><td>0.0311268</td><td>0.0625</td><td>0.968254</td></tr>\n",
       "</tbody>\n",
       "</table>\n"
      ],
      "text/latex": [
       "A matrix: 4 × 4 of type dbl\n",
       "\\begin{tabular}{r|llll}\n",
       "  & 1 & 2 & 3 & 4\\\\\n",
       "\\hline\n",
       "\t1 & 0.7272727 & 0.3508917 & 0.0625 & 0.015873\\\\\n",
       "\t2 & 0.0000000 & 0.3545172 & 0.0000 & 0.000000\\\\\n",
       "\t3 & 0.1818182 & 0.2634643 & 0.8750 & 0.015873\\\\\n",
       "\t4 & 0.0909091 & 0.0311268 & 0.0625 & 0.968254\\\\\n",
       "\\end{tabular}\n"
      ],
      "text/markdown": [
       "\n",
       "A matrix: 4 × 4 of type dbl\n",
       "\n",
       "| <!--/--> | 1 | 2 | 3 | 4 |\n",
       "|---|---|---|---|---|\n",
       "| 1 | 0.7272727 | 0.3508917 | 0.0625 | 0.015873 |\n",
       "| 2 | 0.0000000 | 0.3545172 | 0.0000 | 0.000000 |\n",
       "| 3 | 0.1818182 | 0.2634643 | 0.8750 | 0.015873 |\n",
       "| 4 | 0.0909091 | 0.0311268 | 0.0625 | 0.968254 |\n",
       "\n"
      ],
      "text/plain": [
       "  1         2         3      4       \n",
       "1 0.7272727 0.3508917 0.0625 0.015873\n",
       "2 0.0000000 0.3545172 0.0000 0.000000\n",
       "3 0.1818182 0.2634643 0.8750 0.015873\n",
       "4 0.0909091 0.0311268 0.0625 0.968254"
      ]
     },
     "metadata": {},
     "output_type": "display_data"
    }
   ],
   "source": [
    "matrix_error <- matrix(c(8/11, 0, 2/11, 1/11, 4/11, 4/11, 3/11, 0, \n",
    "                         1/16, 0, 14/16, 1/16, 1/63, 0, 1/63, 61/63), nrow=4)\n",
    "matrix_error <- build.mc.matrix(matrix_error)\n",
    "dimnames(matrix_error) <- list(levels(merged_df$SMOKING_STATUS), \n",
    "                               levels(merged_df$SMOKING_STATUS))\n",
    "matrix_error"
   ]
  },
  {
   "cell_type": "code",
   "execution_count": 8,
   "id": "d1e14af0",
   "metadata": {},
   "outputs": [],
   "source": [
    "tte_smoking_mcsimex <- mcsimex(glm_model, \n",
    "                               SIMEXvariable = \"SMOKING_STATUS\",\n",
    "                               mc.matrix=matrix_error, \n",
    "                               asymptotic = FALSE)"
   ]
  },
  {
   "cell_type": "code",
   "execution_count": 9,
   "id": "92f9840a",
   "metadata": {},
   "outputs": [
    {
     "data": {
      "text/plain": [
       "Call:\n",
       "mcsimex(model = glm_model, SIMEXvariable = \"SMOKING_STATUS\", \n",
       "    mc.matrix = matrix_error, asymptotic = FALSE)\n",
       "\n",
       "Naive model: \n",
       "glm(formula = as.formula(fml), family = binomial, data = merged_df, \n",
       "    na.action = na.exclude)\n",
       "\n",
       "Simex variable : SMOKING_STATUS \n",
       "Misclassification matrix: \n",
       "          1         2      3        4\n",
       "1 0.7272727 0.3508917 0.0625 0.015873\n",
       "2 0.0000000 0.3545172 0.0000 0.000000\n",
       "3 0.1818182 0.2634643 0.8750 0.015873\n",
       "4 0.0909091 0.0311268 0.0625 0.968254\n",
       "\n",
       "Number of iterations:  100 \n",
       "\n",
       "Residuals: \n",
       "     Min.   1st Qu.    Median      Mean   3rd Qu.      Max. \n",
       "-0.926769 -0.211175 -0.065221  0.002541  0.174268  0.984207 \n",
       "\n",
       "Coefficients: \n",
       "\n",
       "Jackknife variance: \n",
       "                             Estimate Std. Error t value Pr(>|t|)    \n",
       "(Intercept)                 3.544e+00  7.607e+00   0.466  0.64131    \n",
       "echo                       -1.569e-01  1.299e-01  -1.207  0.22741    \n",
       "first_careunitSICU         -1.561e-01  1.750e-01  -0.892  0.37242    \n",
       "age                         2.026e-02  4.991e-03   4.059 5.13e-05 ***\n",
       "genderM                     2.410e-01  1.315e-01   1.832  0.06705 .  \n",
       "weight                     -7.829e-03  2.870e-03  -2.728  0.00642 ** \n",
       "saps                        9.809e-02  1.733e-02   5.661 1.73e-08 ***\n",
       "sofa                        2.282e-01  2.641e-02   8.641  < 2e-16 ***\n",
       "elix_score                  1.059e-02  3.877e-02   0.273  0.78477    \n",
       "vent                        2.056e-01  2.115e-01   0.972  0.33109    \n",
       "vaso                        3.181e-02  1.618e-01   0.197  0.84416    \n",
       "icu_adm_weekdaymonday       3.036e-01  2.352e-01   1.291  0.19703    \n",
       "icu_adm_weekdaysaturday     3.310e-01  2.371e-01   1.396  0.16285    \n",
       "icu_adm_weekdaysunday       3.668e-01  2.243e-01   1.636  0.10208    \n",
       "icu_adm_weekdaythursday     2.736e-01  2.213e-01   1.236  0.21647    \n",
       "icu_adm_weekdaytuesday      5.118e-01  2.273e-01   2.251  0.02447 *  \n",
       "icu_adm_weekdaywednesday    4.173e-01  2.265e-01   1.842  0.06556 .  \n",
       "icu_adm_hour                9.822e-03  8.477e-03   1.159  0.24674    \n",
       "icd_chf                    -2.989e-02  1.458e-01  -0.205  0.83759    \n",
       "icd_afib                    2.236e-01  1.462e-01   1.530  0.12620    \n",
       "icd_renal                  -4.691e-02  1.831e-01  -0.256  0.79780    \n",
       "icd_liver                   5.144e-01  2.091e-01   2.461  0.01395 *  \n",
       "icd_copd                    1.601e-01  1.729e-01   0.926  0.35449    \n",
       "icd_cad                    -1.110e-01  1.841e-01  -0.603  0.54676    \n",
       "icd_stroke                  1.038e+00  2.481e-01   4.184 2.99e-05 ***\n",
       "icd_malignancy              6.033e-01  1.445e-01   4.176 3.09e-05 ***\n",
       "vs_heart_rate_first         1.012e-02  3.166e-03   3.198  0.00141 ** \n",
       "vs_map_first               -5.024e-03  3.139e-03  -1.600  0.10968    \n",
       "vs_temp_first              -2.535e-02  5.632e-02  -0.450  0.65267    \n",
       "lab_hemoglobin_first       -2.697e-02  3.300e-02  -0.817  0.41381    \n",
       "lab_platelet_first          7.265e-04  5.079e-04   1.430  0.15277    \n",
       "lab_wbc_first              -8.016e-03  5.008e-03  -1.601  0.10960    \n",
       "lab_ph_first               -1.038e+00  1.001e+00  -1.037  0.29986    \n",
       "lab_chloride_first         -3.474e-02  2.046e-02  -1.698  0.08958 .  \n",
       "lab_sodium_first            1.599e-02  2.187e-02   0.731  0.46478    \n",
       "lab_bun_first               1.077e-02  3.338e-03   3.226  0.00127 ** \n",
       "lab_bicarbonate_first       1.980e-02  2.390e-02   0.829  0.40742    \n",
       "lab_pco2_first             -1.244e-02  8.690e-03  -1.431  0.15258    \n",
       "lab_creatinine_first       -2.969e-01  6.572e-02  -4.517 6.65e-06 ***\n",
       "lab_potassium_first         6.181e-02  8.331e-02   0.742  0.45825    \n",
       "lab_po2_first              -8.604e-04  6.316e-04  -1.362  0.17328    \n",
       "lab_lactate_first           9.914e-02  3.728e-02   2.659  0.00789 ** \n",
       "sedative                   -1.232e-01  1.853e-01  -0.665  0.50616    \n",
       "vs_cvp_flag                -4.639e-01  1.433e-01  -3.237  0.00123 ** \n",
       "lab_creatinine_kinase_flag -1.570e-01  1.706e-01  -0.920  0.35751    \n",
       "lab_bnp_flag               -3.847e-01  3.494e-01  -1.101  0.27104    \n",
       "lab_troponin_flag           4.140e-02  1.779e-01   0.233  0.81599    \n",
       "SMOKING_STATUS2             1.739e+00  1.071e+02   0.016  0.98705    \n",
       "SMOKING_STATUS3            -9.191e-01  2.028e-01  -4.531 6.23e-06 ***\n",
       "SMOKING_STATUS4             3.373e-01  1.789e-01   1.885  0.05954 .  \n",
       "---\n",
       "Signif. codes:  0 '***' 0.001 '**' 0.01 '*' 0.05 '.' 0.1 ' ' 1"
      ]
     },
     "metadata": {},
     "output_type": "display_data"
    }
   ],
   "source": [
    "summary(tte_smoking_mcsimex)"
   ]
  },
  {
   "cell_type": "code",
   "execution_count": null,
   "id": "62c9119d",
   "metadata": {},
   "outputs": [],
   "source": [
    "# plot(tte_smoking_mcsimex)"
   ]
  },
  {
   "cell_type": "markdown",
   "id": "7652ce27",
   "metadata": {},
   "source": [
    "### Calculating Risk Ratio using MC-SIMEX"
   ]
  },
  {
   "cell_type": "code",
   "execution_count": 10,
   "id": "c136ca66",
   "metadata": {},
   "outputs": [],
   "source": [
    "merged_df_0 <- read.csv(\"combined_mimic_smoking_status_0417.csv\")"
   ]
  },
  {
   "cell_type": "code",
   "execution_count": 11,
   "id": "7602fb17",
   "metadata": {},
   "outputs": [],
   "source": [
    "data <- replace(merged_df_0[\"echo\"], merged_df_0[\"echo\"]>0, 0) \n",
    "# print(data)"
   ]
  },
  {
   "cell_type": "code",
   "execution_count": 12,
   "id": "c3cc45fc",
   "metadata": {},
   "outputs": [],
   "source": [
    "merged_df_0[\"echo\"] <- data\n",
    "merged_df_0$SMOKING_STATUS <- as.factor(merged_df_0$SMOKING_STATUS)"
   ]
  },
  {
   "cell_type": "code",
   "execution_count": 13,
   "id": "540e4e7d",
   "metadata": {},
   "outputs": [],
   "source": [
    "predictions_0 = predict(tte_smoking_mcsimex, merged_df_0, type=\"response\")"
   ]
  },
  {
   "cell_type": "code",
   "execution_count": 14,
   "id": "67135762",
   "metadata": {},
   "outputs": [
    {
     "name": "stdout",
     "output_type": "stream",
     "text": [
      "[1] 669.8559\n"
     ]
    }
   ],
   "source": [
    "p0_total = sum(predictions_0, na.rm=T)\n",
    "print(p0_total)"
   ]
  },
  {
   "cell_type": "code",
   "execution_count": 15,
   "id": "310ecb5b",
   "metadata": {},
   "outputs": [],
   "source": [
    "merged_df_1 <- read.csv(\"combined_mimic_smoking_status_0417.csv\")"
   ]
  },
  {
   "cell_type": "code",
   "execution_count": 16,
   "id": "9be4bf38",
   "metadata": {},
   "outputs": [],
   "source": [
    "data <- replace(merged_df_1[\"echo\"], merged_df_1[\"echo\"]>-1, 1)"
   ]
  },
  {
   "cell_type": "code",
   "execution_count": 17,
   "id": "3ff3a800",
   "metadata": {},
   "outputs": [],
   "source": [
    "merged_df_1[\"echo\"] <- data\n",
    "merged_df_1$SMOKING_STATUS <- as.factor(merged_df_1$SMOKING_STATUS)"
   ]
  },
  {
   "cell_type": "code",
   "execution_count": 18,
   "id": "d0a13bcc",
   "metadata": {},
   "outputs": [],
   "source": [
    "predictions_1 = predict(tte_smoking_mcsimex, merged_df_1, type=\"response\")"
   ]
  },
  {
   "cell_type": "code",
   "execution_count": 19,
   "id": "a639297c",
   "metadata": {},
   "outputs": [
    {
     "name": "stdout",
     "output_type": "stream",
     "text": [
      "[1] 625.6658\n"
     ]
    }
   ],
   "source": [
    "p1_total = sum(predictions_1, na.rm=T)\n",
    "print(p1_total)"
   ]
  },
  {
   "cell_type": "code",
   "execution_count": 20,
   "id": "f9ac36bb",
   "metadata": {},
   "outputs": [
    {
     "name": "stdout",
     "output_type": "stream",
     "text": [
      "[1] 0.9340305\n"
     ]
    }
   ],
   "source": [
    "rr = p1_total / p0_total\n",
    "print(rr)"
   ]
  },
  {
   "cell_type": "markdown",
   "id": "8073ea7e",
   "metadata": {},
   "source": [
    "### Bootstrapping Risk Ratio Via Error Rate Matrices"
   ]
  },
  {
   "cell_type": "code",
   "execution_count": 21,
   "id": "db61a048",
   "metadata": {},
   "outputs": [],
   "source": [
    "require(\"reticulate\")\n"
   ]
  },
  {
   "cell_type": "code",
   "execution_count": 25,
   "id": "c47bf5f1",
   "metadata": {},
   "outputs": [
    {
     "name": "stdout",
     "output_type": "stream",
     "text": [
      "[1] 0\n",
      "[1] 0.932313\n",
      "[1] 1\n",
      "[1] 0.9331153\n",
      "[1] 2\n",
      "[1] 0.9316244\n",
      "[1] 3\n",
      "[1] 0.9316425\n",
      "[1] 4\n",
      "[1] 0.9361585\n",
      "[1] 5\n",
      "[1] 0.931594\n",
      "[1] 6\n",
      "[1] 0.931594\n",
      "[1] 7\n",
      "[1] 0.9327472\n",
      "[1] 8\n",
      "[1] 0.9323461\n",
      "[1] 9\n",
      "[1] 0.9308459\n"
     ]
    }
   ],
   "source": [
    "rr_arr <- list()\n",
    "for (x in 0:9){\n",
    "    print(x)\n",
    "    tmp_m_error <- matrix_script_reader(paste(\"INSERT FILE PATH\",\n",
    "                                              as.character(x),\".pkl\", \n",
    "                                              sep=''))\n",
    "    tmp_m_error <- build.mc.matrix(tmp_m_error, method=\"log\")\n",
    "    dimnames(tmp_m_error) <- list(levels(merged_df$SMOKING_STATUS), levels(merged_df$SMOKING_STATUS))\n",
    "    \n",
    "    tryCatch({boot_mcsimex <- mcsimex(glm_model, \n",
    "                                      SIMEXvariable = \"SMOKING_STATUS\", \n",
    "                                      mc.matrix=tmp_m_error, \n",
    "                                      asymptotic = FALSE)}\n",
    "            , error = function(e) {tmp_m_error <- build.mc.matrix(tmp_m_error, method=\"jlt\"); \n",
    "                                   boot_mcsimex <- mcsimex(glm_model, \n",
    "                                                           SIMEXvariable = \"SMOKING_STATUS\", \n",
    "                                                           mc.matrix=tmp_m_error, \n",
    "                                                           asymptotic = FALSE)} )\n",
    "    \n",
    "    merged_df_0 <- read.csv(\"combined_mimic_smoking_status_0417.csv\")\n",
    "    data_0 <- replace(merged_df_0[\"echo\"], merged_df_0[\"echo\"]>0, 0) \n",
    "    merged_df_0[\"echo\"] <- data_0\n",
    "    merged_df_0$SMOKING_STATUS <- as.factor(merged_df_0$SMOKING_STATUS)\n",
    "    predictions_0 = predict(boot_mcsimex, merged_df_0, type=\"response\")\n",
    "    p0_total = sum(predictions_0, na.rm=T)\n",
    "    \n",
    "    merged_df_1 <- read.csv(\"combined_mimic_smoking_status_0417.csv\")\n",
    "    data_1 <- replace(merged_df_1[\"echo\"], merged_df_1[\"echo\"]>-1, 1)\n",
    "    merged_df_1[\"echo\"] <- data_1\n",
    "    merged_df_1$SMOKING_STATUS <- as.factor(merged_df_1$SMOKING_STATUS)\n",
    "    predictions_1 = predict(boot_mcsimex, merged_df_1, type=\"response\")\n",
    "    p1_total = sum(predictions_1, na.rm=T)\n",
    "\n",
    "    rr = p1_total / p0_total\n",
    "    rr_arr <- append(rr_arr, rr)\n",
    "    print(rr)\n",
    "    \n",
    "}"
   ]
  },
  {
   "cell_type": "code",
   "execution_count": 26,
   "id": "152bc2d1",
   "metadata": {},
   "outputs": [
    {
     "data": {
      "text/html": [
       "<style>\n",
       ".dl-inline {width: auto; margin:0; padding: 0}\n",
       ".dl-inline>dt, .dl-inline>dd {float: none; width: auto; display: inline-block}\n",
       ".dl-inline>dt::after {content: \":\\0020\"; padding-right: .5ex}\n",
       ".dl-inline>dt:not(:first-of-type) {padding-left: .5ex}\n",
       "</style><dl class=dl-inline><dt>0%</dt><dd>0.930845875264989</dd><dt>25%</dt><dd>0.931601587253927</dd><dt>50%</dt><dd>0.931977754453463</dd><dt>75%</dt><dd>0.932646939515367</dd><dt>100%</dt><dd>0.936158534117594</dd></dl>\n"
      ],
      "text/latex": [
       "\\begin{description*}\n",
       "\\item[0\\textbackslash{}\\%] 0.930845875264989\n",
       "\\item[25\\textbackslash{}\\%] 0.931601587253927\n",
       "\\item[50\\textbackslash{}\\%] 0.931977754453463\n",
       "\\item[75\\textbackslash{}\\%] 0.932646939515367\n",
       "\\item[100\\textbackslash{}\\%] 0.936158534117594\n",
       "\\end{description*}\n"
      ],
      "text/markdown": [
       "0%\n",
       ":   0.93084587526498925%\n",
       ":   0.93160158725392750%\n",
       ":   0.93197775445346375%\n",
       ":   0.932646939515367100%\n",
       ":   0.936158534117594\n",
       "\n"
      ],
      "text/plain": [
       "       0%       25%       50%       75%      100% \n",
       "0.9308459 0.9316016 0.9319778 0.9326469 0.9361585 "
      ]
     },
     "metadata": {},
     "output_type": "display_data"
    }
   ],
   "source": [
    "quantile(unlist(rr_arr))"
   ]
  },
  {
   "cell_type": "code",
   "execution_count": 45,
   "id": "1e292543",
   "metadata": {},
   "outputs": [
    {
     "data": {
      "text/html": [
       "<style>\n",
       ".dl-inline {width: auto; margin:0; padding: 0}\n",
       ".dl-inline>dt, .dl-inline>dd {float: none; width: auto; display: inline-block}\n",
       ".dl-inline>dt::after {content: \":\\0020\"; padding-right: .5ex}\n",
       ".dl-inline>dt:not(:first-of-type) {padding-left: .5ex}\n",
       "</style><dl class=dl-inline><dt>2.5%</dt><dd>0.931014198467326</dd><dt>97.5%</dt><dd>0.935473806366469</dd></dl>\n"
      ],
      "text/latex": [
       "\\begin{description*}\n",
       "\\item[2.5\\textbackslash{}\\%] 0.931014198467326\n",
       "\\item[97.5\\textbackslash{}\\%] 0.935473806366469\n",
       "\\end{description*}\n"
      ],
      "text/markdown": [
       "2.5%\n",
       ":   0.93101419846732697.5%\n",
       ":   0.935473806366469\n",
       "\n"
      ],
      "text/plain": [
       "     2.5%     97.5% \n",
       "0.9310142 0.9354738 "
      ]
     },
     "metadata": {},
     "output_type": "display_data"
    }
   ],
   "source": [
    "quantile(unlist(rr_arr), c(.025, 0.975))"
   ]
  },
  {
   "cell_type": "markdown",
   "id": "13cc7a52",
   "metadata": {},
   "source": [
    "### Bootstrapping Risk Ratio via Sampling Dataframe"
   ]
  },
  {
   "cell_type": "code",
   "execution_count": 36,
   "id": "b8da0d8d",
   "metadata": {
    "scrolled": true
   },
   "outputs": [
    {
     "name": "stdout",
     "output_type": "stream",
     "text": [
      "[1] 0.8662869\n",
      "[1] 0.8672094\n",
      "[1] 0.9519129\n",
      "[1] 0.9516234\n",
      "[1] 0.8619673\n",
      "[1] 0.9478805\n",
      "[1] 0.9554614\n",
      "[1] 1.008167\n",
      "[1] 1.059316\n",
      "[1] 0.9511795\n"
     ]
    }
   ],
   "source": [
    "rr_df_arr <- list()\n",
    "for (x in 0:9){\n",
    "\n",
    "    sampled_df <- merged_df[sample(nrow(merged_df), size=nrow(merged_df), replace=TRUE), ]\n",
    "    sampled_df$SMOKING_STATUS <- as.factor(sampled_df$SMOKING_STATUS)\n",
    "    sampled_glm_model <- glm(as.formula(fml), \n",
    "                             data = sampled_df, \n",
    "                             family = binomial, \n",
    "                             na.action = na.exclude)\n",
    "    \n",
    "    matrix_error <- matrix(c(8/11, 0, 2/11, 1/11, 4/11, 4/11, 3/11, \n",
    "                             0, 1/16, 0, 14/16, 1/16, 1/63, 0, 1/63, \n",
    "                             61/63), nrow=4)\n",
    "    matrix_error <- build.mc.matrix(matrix_error)\n",
    "    dimnames(matrix_error) <- list(levels(merged_df$SMOKING_STATUS), levels(merged_df$SMOKING_STATUS))\n",
    "    \n",
    "    tryCatch({sampled_mc_simex_model <- mcsimex(sampled_glm_model, \n",
    "                                                SIMEXvariable = \"SMOKING_STATUS\", \n",
    "                                                mc.matrix=matrix_error, \n",
    "                                                asymptotic = FALSE)}\n",
    "            , error = function(e) {sampled_df <- merged_df[sample(nrow(merged_df), \n",
    "                                                                  size=nrow(merged_df)-1, \n",
    "                                                                  replace=TRUE), ]; \n",
    "                                   sampled_df$SMOKING_STATUS <- as.factor(sampled_df$SMOKING_STATUS)\n",
    "                                   sampled_glm_model <- glm(as.formula(fml), \n",
    "                                                            data = sampled_df, \n",
    "                                                            family = binomial, \n",
    "                                                            na.action = na.exclude); \n",
    "                                   sampled_mc_simex_model <- mcsimex(sampled_glm_model, \n",
    "                                                                     SIMEXvariable = \"SMOKING_STATUS\", \n",
    "                                                                     mc.matrix=matrix_error, \n",
    "                                                                     asymptotic = FALSE)} )\n",
    "    \n",
    "    sampled_df_0 <- sampled_df\n",
    "    sampled_data_0 <- replace(sampled_df_0[\"echo\"], sampled_df_0[\"echo\"]>0, 0) \n",
    "    sampled_df_0[\"echo\"] <- sampled_data_0\n",
    "    sampled_df_0$SMOKING_STATUS <- as.factor(sampled_df_0$SMOKING_STATUS)\n",
    "    sampled_predictions_0 = predict(sampled_mc_simex_model, sampled_df_0, type=\"response\")\n",
    "    sampled_p0_total = sum(sampled_predictions_0, na.rm=T)\n",
    "    \n",
    "    sampled_df_1 <- sampled_df\n",
    "    sampled_data_1 <- replace(sampled_df_1[\"echo\"], sampled_df_1[\"echo\"]>-1, 1)\n",
    "    sampled_df_1[\"echo\"] <- sampled_data_1\n",
    "    sampled_df_1$SMOKING_STATUS <- as.factor(sampled_df_1$SMOKING_STATUS)\n",
    "    sampled_predictions_1 = predict(sampled_mc_simex_model, sampled_df_1, type=\"response\")\n",
    "    sampled_p1_total = sum(sampled_predictions_1, na.rm=T)\n",
    "\n",
    "    sample_rr = sampled_p1_total / sampled_p0_total\n",
    "    rr_df_arr <- append(rr_df_arr, sample_rr)\n",
    "    print(sample_rr)\n",
    "}"
   ]
  },
  {
   "cell_type": "code",
   "execution_count": 39,
   "id": "612167cb",
   "metadata": {},
   "outputs": [
    {
     "data": {
      "text/html": [
       "<style>\n",
       ".dl-inline {width: auto; margin:0; padding: 0}\n",
       ".dl-inline>dt, .dl-inline>dd {float: none; width: auto; display: inline-block}\n",
       ".dl-inline>dt::after {content: \":\\0020\"; padding-right: .5ex}\n",
       ".dl-inline>dt:not(:first-of-type) {padding-left: .5ex}\n",
       "</style><dl class=dl-inline><dt>0%</dt><dd>0.861967255692186</dd><dt>25%</dt><dd>0.887377185847946</dd><dt>50%</dt><dd>0.951401450201059</dd><dt>75%</dt><dd>0.954574249239822</dd><dt>100%</dt><dd>1.0593155746525</dd></dl>\n"
      ],
      "text/latex": [
       "\\begin{description*}\n",
       "\\item[0\\textbackslash{}\\%] 0.861967255692186\n",
       "\\item[25\\textbackslash{}\\%] 0.887377185847946\n",
       "\\item[50\\textbackslash{}\\%] 0.951401450201059\n",
       "\\item[75\\textbackslash{}\\%] 0.954574249239822\n",
       "\\item[100\\textbackslash{}\\%] 1.0593155746525\n",
       "\\end{description*}\n"
      ],
      "text/markdown": [
       "0%\n",
       ":   0.86196725569218625%\n",
       ":   0.88737718584794650%\n",
       ":   0.95140145020105975%\n",
       ":   0.954574249239822100%\n",
       ":   1.0593155746525\n",
       "\n"
      ],
      "text/plain": [
       "       0%       25%       50%       75%      100% \n",
       "0.8619673 0.8873772 0.9514015 0.9545742 1.0593156 "
      ]
     },
     "metadata": {},
     "output_type": "display_data"
    }
   ],
   "source": [
    "quantile(unlist(rr_df_arr))"
   ]
  },
  {
   "cell_type": "code",
   "execution_count": 46,
   "id": "d858a784",
   "metadata": {},
   "outputs": [
    {
     "data": {
      "text/html": [
       "<style>\n",
       ".dl-inline {width: auto; margin:0; padding: 0}\n",
       ".dl-inline>dt, .dl-inline>dd {float: none; width: auto; display: inline-block}\n",
       ".dl-inline>dt::after {content: \":\\0020\"; padding-right: .5ex}\n",
       ".dl-inline>dt:not(:first-of-type) {padding-left: .5ex}\n",
       "</style><dl class=dl-inline><dt>2.5%</dt><dd>0.862939182810454</dd><dt>97.5%</dt><dd>1.04780720916636</dd></dl>\n"
      ],
      "text/latex": [
       "\\begin{description*}\n",
       "\\item[2.5\\textbackslash{}\\%] 0.862939182810454\n",
       "\\item[97.5\\textbackslash{}\\%] 1.04780720916636\n",
       "\\end{description*}\n"
      ],
      "text/markdown": [
       "2.5%\n",
       ":   0.86293918281045497.5%\n",
       ":   1.04780720916636\n",
       "\n"
      ],
      "text/plain": [
       "     2.5%     97.5% \n",
       "0.8629392 1.0478072 "
      ]
     },
     "metadata": {},
     "output_type": "display_data"
    }
   ],
   "source": [
    "quantile(unlist(rr_df_arr), c(.025, 0.975))"
   ]
  },
  {
   "cell_type": "markdown",
   "id": "46139064",
   "metadata": {},
   "source": [
    "### Bootstrapping Risk Ratio combining both strategies"
   ]
  },
  {
   "cell_type": "code",
   "execution_count": 43,
   "id": "735ba20c",
   "metadata": {},
   "outputs": [
    {
     "name": "stdout",
     "output_type": "stream",
     "text": [
      "[1] 0.8498759\n",
      "[1] 0.8547966\n",
      "[1] 0.8494987\n",
      "[1] 0.8505417\n",
      "[1] 0.857892\n",
      "[1] 0.8506836\n",
      "[1] 0.8506836\n",
      "[1] 0.8522792\n",
      "[1] 0.8505662\n",
      "[1] 0.8507709\n",
      "[1] 0.8829385\n",
      "[1] 0.8815192\n",
      "[1] 0.8804538\n",
      "[1] 0.881803\n",
      "[1] 0.8782177\n",
      "[1] 0.8834176\n",
      "[1] 0.8834176\n",
      "[1] 0.8824677\n",
      "[1] 0.8830197\n",
      "[1] 0.8812688\n",
      "[1] 0.9178056\n",
      "[1] 0.9169759\n",
      "[1] 0.9148318\n",
      "[1] 0.9172119\n",
      "[1] 0.9174504\n",
      "[1] 0.9179122\n",
      "[1] 0.9179122\n",
      "[1] 0.9168176\n",
      "[1] 0.9168748\n",
      "[1] 0.9166274\n",
      "[1] 0.8943567\n",
      "[1] 0.8936341\n",
      "[1] 0.8909847\n",
      "[1] 0.8910933\n",
      "[1] 0.8968332\n",
      "[1] 0.8923147\n",
      "[1] 0.8923147\n",
      "[1] 0.8946779\n",
      "[1] 0.8939735\n",
      "[1] 0.8914655\n",
      "[1] 0.9099752\n",
      "[1] 0.9074819\n",
      "[1] 0.9072579\n",
      "[1] 0.9080405\n",
      "[1] 0.9102136\n",
      "[1] 0.9089579\n",
      "[1] 0.9089579\n",
      "[1] 0.9092853\n",
      "[1] 0.9083634\n",
      "[1] 0.909059\n",
      "[1] 0.9191958\n",
      "[1] 0.9199039\n",
      "[1] 0.9164768\n",
      "[1] 0.9179599\n",
      "[1] 0.9192645\n",
      "[1] 0.918949\n",
      "[1] 0.918949\n",
      "[1] 0.9189645\n",
      "[1] 0.9166585\n",
      "[1] 0.918716\n",
      "[1] 1.009724\n",
      "[1] 1.014891\n",
      "[1] 1.010643\n",
      "[1] 1.012132\n",
      "[1] 1.017634\n",
      "[1] 1.007861\n",
      "[1] 1.007861\n",
      "[1] 1.008069\n",
      "[1] 1.00921\n",
      "[1] 1.008941\n",
      "[1] 0.9159847\n",
      "[1] 0.9121385\n",
      "[1] 0.9114735\n",
      "[1] 0.912814\n",
      "[1] 0.9151667\n",
      "[1] 0.9157711\n",
      "[1] 0.9157711\n",
      "[1] 0.9140224\n",
      "[1] 0.9118952\n",
      "[1] 0.9105027\n",
      "[1] 0.99289\n",
      "[1] 0.9981164\n",
      "[1] 0.9987793\n",
      "[1] 0.9982318\n",
      "[1] 1.000453\n",
      "[1] 0.9893768\n",
      "[1] 0.9893768\n",
      "[1] 0.9902771\n",
      "[1] 0.9966094\n",
      "[1] 0.9974126\n",
      "[1] 0.9814112\n",
      "[1] 0.9830389\n",
      "[1] 0.9864121\n",
      "[1] 0.9852063\n",
      "[1] 0.9791975\n",
      "[1] 0.9820864\n",
      "[1] 0.9820864\n",
      "[1] 0.9840233\n",
      "[1] 0.9863468\n",
      "[1] 0.9857723\n"
     ]
    }
   ],
   "source": [
    "rr_combined_arr <- list()\n",
    "for (x in 0:9){\n",
    "\n",
    "    sampled_df <- merged_df[sample(nrow(merged_df), size=nrow(merged_df), replace=TRUE), ]\n",
    "    sampled_df$SMOKING_STATUS <- as.factor(sampled_df$SMOKING_STATUS)\n",
    "    sampled_glm_model <- glm(as.formula(fml), data = sampled_df, family = binomial, na.action = na.exclude)\n",
    "    \n",
    "    \n",
    "    for (y in 0:9){\n",
    "        \n",
    "        tmp_m_error <- matrix_script_reader(paste(\"INSERT FILE PATH\",\n",
    "                                                  as.character(y),\".pkl\", \n",
    "                                                  sep=''))\n",
    "        tmp_m_error <- build.mc.matrix(tmp_m_error, method=\"log\")\n",
    "        dimnames(tmp_m_error) <- list(levels(sampled_df$SMOKING_STATUS), levels(sampled_df$SMOKING_STATUS))\n",
    "        \n",
    "        tryCatch({sampled_mc_simex_model <- mcsimex(sampled_glm_model, \n",
    "                                                    SIMEXvariable = \"SMOKING_STATUS\", \n",
    "                                                    mc.matrix=tmp_m_error, \n",
    "                                                    asymptotic = FALSE)}\n",
    "            , error = function(e) {sampled_df <- merged_df[sample(nrow(merged_df), \n",
    "                                                                  size=nrow(merged_df)-1, \n",
    "                                                                  replace=TRUE), ]; \n",
    "                                   sampled_df$SMOKING_STATUS <- as.factor(sampled_df$SMOKING_STATUS)\n",
    "                                   sampled_glm_model <- glm(as.formula(fml), \n",
    "                                                            data = sampled_df, \n",
    "                                                            family = binomial, \n",
    "                                                            na.action = na.exclude);\n",
    "                                   tmp_m_error <- build.mc.matrix(tmp_m_error, method=\"jlt\");\n",
    "                                   sampled_mc_simex_model <- mcsimex(sampled_glm_model, \n",
    "                                                                     SIMEXvariable = \"SMOKING_STATUS\", \n",
    "                                                                     mc.matrix=tmp_m_error, \n",
    "                                                                     asymptotic = FALSE)} )\n",
    "        sampled_df_0 <- sampled_df\n",
    "        sampled_data_0 <- replace(sampled_df_0[\"echo\"], sampled_df_0[\"echo\"]>0, 0) \n",
    "        sampled_df_0[\"echo\"] <- sampled_data_0\n",
    "        sampled_df_0$SMOKING_STATUS <- as.factor(sampled_df_0$SMOKING_STATUS)\n",
    "        sampled_predictions_0 = predict(sampled_mc_simex_model, sampled_df_0, type=\"response\")\n",
    "        sampled_p0_total = sum(sampled_predictions_0, na.rm=T)\n",
    "\n",
    "        sampled_df_1 <- sampled_df\n",
    "        sampled_data_1 <- replace(sampled_df_1[\"echo\"], sampled_df_1[\"echo\"]>-1, 1)\n",
    "        sampled_df_1[\"echo\"] <- sampled_data_1\n",
    "        sampled_df_1$SMOKING_STATUS <- as.factor(sampled_df_1$SMOKING_STATUS)\n",
    "        sampled_predictions_1 = predict(sampled_mc_simex_model, sampled_df_1, type=\"response\")\n",
    "        sampled_p1_total = sum(sampled_predictions_1, na.rm=T)\n",
    "\n",
    "        sample_rr = sampled_p1_total / sampled_p0_total\n",
    "        rr_combined_arr <- append(rr_combined_arr, sample_rr)\n",
    "        print(sample_rr)\n",
    "           \n",
    "    }\n",
    "    \n",
    "}"
   ]
  },
  {
   "cell_type": "code",
   "execution_count": 44,
   "id": "eec0097a",
   "metadata": {},
   "outputs": [
    {
     "data": {
      "text/html": [
       "<style>\n",
       ".dl-inline {width: auto; margin:0; padding: 0}\n",
       ".dl-inline>dt, .dl-inline>dd {float: none; width: auto; display: inline-block}\n",
       ".dl-inline>dt::after {content: \":\\0020\"; padding-right: .5ex}\n",
       ".dl-inline>dt:not(:first-of-type) {padding-left: .5ex}\n",
       "</style><dl class=dl-inline><dt>0%</dt><dd>0.849498655836156</dd><dt>25%</dt><dd>0.893304214395079</dd><dt>50%</dt><dd>0.915877892454088</dd><dt>75%</dt><dd>0.983284973521591</dd><dt>100%</dt><dd>1.01763420731108</dd></dl>\n"
      ],
      "text/latex": [
       "\\begin{description*}\n",
       "\\item[0\\textbackslash{}\\%] 0.849498655836156\n",
       "\\item[25\\textbackslash{}\\%] 0.893304214395079\n",
       "\\item[50\\textbackslash{}\\%] 0.915877892454088\n",
       "\\item[75\\textbackslash{}\\%] 0.983284973521591\n",
       "\\item[100\\textbackslash{}\\%] 1.01763420731108\n",
       "\\end{description*}\n"
      ],
      "text/markdown": [
       "0%\n",
       ":   0.84949865583615625%\n",
       ":   0.89330421439507950%\n",
       ":   0.91587789245408875%\n",
       ":   0.983284973521591100%\n",
       ":   1.01763420731108\n",
       "\n"
      ],
      "text/plain": [
       "       0%       25%       50%       75%      100% \n",
       "0.8494987 0.8933042 0.9158779 0.9832850 1.0176342 "
      ]
     },
     "metadata": {},
     "output_type": "display_data"
    }
   ],
   "source": [
    "quantile(unlist(rr_combined_arr))"
   ]
  },
  {
   "cell_type": "code",
   "execution_count": 47,
   "id": "da95d674",
   "metadata": {},
   "outputs": [
    {
     "data": {
      "text/html": [
       "<style>\n",
       ".dl-inline {width: auto; margin:0; padding: 0}\n",
       ".dl-inline>dt, .dl-inline>dd {float: none; width: auto; display: inline-block}\n",
       ".dl-inline>dt::after {content: \":\\0020\"; padding-right: .5ex}\n",
       ".dl-inline>dt:not(:first-of-type) {padding-left: .5ex}\n",
       "</style><dl class=dl-inline><dt>2.5%</dt><dd>0.850553342088739</dd><dt>97.5%</dt><dd>1.01142506789169</dd></dl>\n"
      ],
      "text/latex": [
       "\\begin{description*}\n",
       "\\item[2.5\\textbackslash{}\\%] 0.850553342088739\n",
       "\\item[97.5\\textbackslash{}\\%] 1.01142506789169\n",
       "\\end{description*}\n"
      ],
      "text/markdown": [
       "2.5%\n",
       ":   0.85055334208873997.5%\n",
       ":   1.01142506789169\n",
       "\n"
      ],
      "text/plain": [
       "     2.5%     97.5% \n",
       "0.8505533 1.0114251 "
      ]
     },
     "metadata": {},
     "output_type": "display_data"
    }
   ],
   "source": [
    "quantile(unlist(rr_combined_arr), c(0.025, 0.975))"
   ]
  },
  {
   "cell_type": "code",
   "execution_count": null,
   "id": "982dd2c5",
   "metadata": {},
   "outputs": [],
   "source": []
  }
 ],
 "metadata": {
  "kernelspec": {
   "display_name": "R",
   "language": "R",
   "name": "ir"
  },
  "language_info": {
   "codemirror_mode": "r",
   "file_extension": ".r",
   "mimetype": "text/x-r-source",
   "name": "R",
   "pygments_lexer": "r",
   "version": "4.3.3"
  }
 },
 "nbformat": 4,
 "nbformat_minor": 5
}
